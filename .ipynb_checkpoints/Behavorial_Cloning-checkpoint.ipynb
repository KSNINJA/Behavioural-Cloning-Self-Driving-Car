{
 "cells": [
  {
   "cell_type": "code",
   "execution_count": 220,
   "metadata": {
    "colab": {
     "base_uri": "https://localhost:8080/",
     "height": 119
    },
    "colab_type": "code",
    "id": "idIcqixw9hIb",
    "outputId": "0d4f8fac-37b5-4f0f-add8-d581f0de9819"
   },
   "outputs": [
    {
     "name": "stdout",
     "output_type": "stream",
     "text": [
      "fatal: destination path 'sim-track-data' already exists and is not an empty directory.\n"
     ]
    }
   ],
   "source": [
    "!git clone https://github.com/rslim087a/track"
   ]
  },
  {
   "cell_type": "code",
   "execution_count": 221,
   "metadata": {},
   "outputs": [
    {
     "name": "stdout",
     "output_type": "stream",
     "text": [
      "\u001b[34mdata\u001b[m\u001b[m\n"
     ]
    }
   ],
   "source": [
    "!ls sim-track-data"
   ]
  },
  {
   "cell_type": "code",
   "execution_count": 222,
   "metadata": {},
   "outputs": [],
   "source": [
    "import os\n",
    "import numpy as np \n",
    "import matplotlib.pyplot as plt\n",
    "import matplotlib.image as mpimg\n",
    "import keras\n",
    "from keras.models import Sequential\n",
    "from keras.optimizers import Adam\n",
    "from keras.layers import Convolution2D, MaxPooling2D, Dropout, Dense, Flatten\n",
    "import cv2\n",
    "import pandas as pd\n",
    "import ntpath\n",
    "from sklearn.utils import shuffle"
   ]
  },
  {
   "cell_type": "code",
   "execution_count": 223,
   "metadata": {},
   "outputs": [
    {
     "name": "stdout",
     "output_type": "stream",
     "text": [
      "                                              center  \\\n",
      "0  /Users/kartiksinghal/Desktop/self-driving-proj...   \n",
      "1  /Users/kartiksinghal/Desktop/self-driving-proj...   \n",
      "2  /Users/kartiksinghal/Desktop/self-driving-proj...   \n",
      "3  /Users/kartiksinghal/Desktop/self-driving-proj...   \n",
      "4  /Users/kartiksinghal/Desktop/self-driving-proj...   \n",
      "\n",
      "                                                left  \\\n",
      "0   /Users/kartiksinghal/Desktop/self-driving-pro...   \n",
      "1   /Users/kartiksinghal/Desktop/self-driving-pro...   \n",
      "2   /Users/kartiksinghal/Desktop/self-driving-pro...   \n",
      "3   /Users/kartiksinghal/Desktop/self-driving-pro...   \n",
      "4   /Users/kartiksinghal/Desktop/self-driving-pro...   \n",
      "\n",
      "                                               right  steering  throttle  \\\n",
      "0   /Users/kartiksinghal/Desktop/self-driving-pro...       0.0       0.0   \n",
      "1   /Users/kartiksinghal/Desktop/self-driving-pro...       0.0       0.0   \n",
      "2   /Users/kartiksinghal/Desktop/self-driving-pro...       0.0       0.0   \n",
      "3   /Users/kartiksinghal/Desktop/self-driving-pro...       0.0       0.0   \n",
      "4   /Users/kartiksinghal/Desktop/self-driving-pro...       0.0       0.0   \n",
      "\n",
      "   reverse     speed  \n",
      "0        0  0.000079  \n",
      "1        0  0.000078  \n",
      "2        0  0.000079  \n",
      "3        0  0.000079  \n",
      "4        0  0.000078  \n"
     ]
    }
   ],
   "source": [
    "columns = ['center', 'left', 'right', 'steering', 'throttle', 'reverse', 'speed']\n",
    "datadir= 'sim-track-data/data'\n",
    "data = pd.read_csv(os.path.join(datadir, 'driving_log.csv'), names=columns)\n",
    "print(data.head())"
   ]
  },
  {
   "cell_type": "code",
   "execution_count": 224,
   "metadata": {},
   "outputs": [
    {
     "name": "stdout",
     "output_type": "stream",
     "text": [
      "                               center                              left  \\\n",
      "0  center_2020_09_09_22_44_07_580.jpg  left_2020_09_09_22_44_07_580.jpg   \n",
      "1  center_2020_09_09_22_44_07_686.jpg  left_2020_09_09_22_44_07_686.jpg   \n",
      "2  center_2020_09_09_22_44_07_791.jpg  left_2020_09_09_22_44_07_791.jpg   \n",
      "3  center_2020_09_09_22_44_07_891.jpg  left_2020_09_09_22_44_07_891.jpg   \n",
      "4  center_2020_09_09_22_44_07_997.jpg  left_2020_09_09_22_44_07_997.jpg   \n",
      "\n",
      "                               right  steering  throttle  reverse     speed  \n",
      "0  right_2020_09_09_22_44_07_580.jpg       0.0       0.0        0  0.000079  \n",
      "1  right_2020_09_09_22_44_07_686.jpg       0.0       0.0        0  0.000078  \n",
      "2  right_2020_09_09_22_44_07_791.jpg       0.0       0.0        0  0.000079  \n",
      "3  right_2020_09_09_22_44_07_891.jpg       0.0       0.0        0  0.000079  \n",
      "4  right_2020_09_09_22_44_07_997.jpg       0.0       0.0        0  0.000078  \n"
     ]
    }
   ],
   "source": [
    "def path_leaf(path):\n",
    "  head, tail = ntpath.split(path)\n",
    "  return tail\n",
    "data['center'] = data['center'].apply(path_leaf)\n",
    "data['left'] = data['left'].apply(path_leaf)\n",
    "data['right'] = data['right'].apply(path_leaf)\n",
    "print(data.head())"
   ]
  },
  {
   "cell_type": "code",
   "execution_count": 225,
   "metadata": {},
   "outputs": [
    {
     "data": {
      "text/plain": [
       "[<matplotlib.lines.Line2D at 0x7f95ed0fbdf0>]"
      ]
     },
     "execution_count": 225,
     "metadata": {},
     "output_type": "execute_result"
    },
    {
     "data": {
      "image/png": "[encoded data removed]",
      "text/plain": [
       "<Figure size 432x288 with 1 Axes>"
      ]
     },
     "metadata": {
      "needs_background": "light"
     },
     "output_type": "display_data"
    }
   ],
   "source": [
    "num_bins = 25\n",
    "samples_per_bin = 400\n",
    "hist, bins = np.histogram(data['steering'], num_bins)\n",
    "center = (bins[:-1]+ bins[1:]) * 0.5\n",
    "plt.bar(center, hist, width=0.05)\n",
    "plt.plot((np.min(data['steering']), np.max(data['steering'])), (samples_per_bin, samples_per_bin))"
   ]
  },
  {
   "cell_type": "code",
   "execution_count": 226,
   "metadata": {},
   "outputs": [
    {
     "data": {
      "text/plain": [
       "[<matplotlib.lines.Line2D at 0x7f96f5b23df0>]"
      ]
     },
     "execution_count": 226,
     "metadata": {},
     "output_type": "execute_result"
    },
    {
     "data": {
      "image/png": "[encoded data removed]",
      "text/plain": [
       "<Figure size 432x288 with 1 Axes>"
      ]
     },
     "metadata": {
      "needs_background": "light"
     },
     "output_type": "display_data"
    }
   ],
   "source": [
    "zero_steering_angle = data[data['steering']==0] \n",
    "zero_steering_angle = shuffle(zero_steering_angle)[0:200]\n",
    "new_data = zero_steering_angle.append(data[data['steering']!=0]) #Remove some zero angle data, as it dominates most of training data\n",
    "\n",
    "num_bins = 25\n",
    "samples_per_bin = 400\n",
    "hist, bins = np.histogram(new_data['steering'], num_bins)\n",
    "center = (bins[:-1]+ bins[1:]) * 0.5\n",
    "plt.bar(center, hist, width=0.05)\n",
    "plt.plot((np.min(new_data['steering']), np.max(new_data['steering'])), (samples_per_bin, samples_per_bin))"
   ]
  },
  {
   "cell_type": "code",
   "execution_count": 227,
   "metadata": {},
   "outputs": [],
   "source": [
    "X = [] #image_path of center cam\n",
    "y=[] #steering angle \n",
    "for i in range(len(new_data)):\n",
    "  x = new_data.iloc[i]\n",
    "  X.append(os.path.join(datadir+'/IMG', x[0]))\n",
    "  y.append(float(x[3]))\n",
    "       \n",
    "\n",
    "from sklearn.model_selection import train_test_split\n",
    "X_train, X_valid, y_train, y_valid = train_test_split(X, y, test_size=0.2, random_state=42)\n"
   ]
  },
  {
   "cell_type": "code",
   "execution_count": 228,
   "metadata": {},
   "outputs": [],
   "source": [
    "def preprocess_img(img):\n",
    "  image = mpimg.imread(img)\n",
    "  image = image[60:135,:, :]\n",
    "  image = cv2.cvtColor(image, cv2.COLOR_RGB2YUV)\n",
    "  image = cv2.GaussianBlur(image, (3,3), 0)\n",
    "  image = cv2.resize(image, (200, 66))\n",
    "  image = image/255 #Normalisation\n",
    "  return image"
   ]
  },
  {
   "cell_type": "code",
   "execution_count": 229,
   "metadata": {},
   "outputs": [
    {
     "data": {
      "image/png": "[encoded data removed]",
      "text/plain": [
       "<Figure size 432x288 with 1 Axes>"
      ]
     },
     "metadata": {
      "needs_background": "light"
     },
     "output_type": "display_data"
    }
   ],
   "source": [
    "image = preprocess_img(X_train[5])\n",
    "plt.imshow(image)\n",
    "X_train = np.asarray(list(map(preprocess_img, X_train)))\n",
    "X_valid = np.asarray(list(map(preprocess_img, X_valid)))\n",
    "y_train = np.asarray(y_train)\n",
    "y_valid = np.asarray(y_valid)"
   ]
  },
  {
   "cell_type": "code",
   "execution_count": 230,
   "metadata": {},
   "outputs": [],
   "source": [
    "def nvidia_model():\n",
    "  model = Sequential()\n",
    "  model.add(Convolution2D(24, (5,5), input_shape=(66,200,3), strides=(2,2), activation=\"elu\"))\n",
    "  model.add(Convolution2D(36, (5,5), strides=(2,2), activation=\"elu\"))\n",
    "  model.add(Convolution2D(48, (5,5), strides=(2,2), activation=\"elu\"))\n",
    "  model.add(Convolution2D(64, (3,3), activation=\"elu\"))\n",
    "  model.add(Convolution2D(64, (3,3), activation=\"elu\"))\n",
    "  model.add(Flatten())\n",
    "  model.add(Dense(100, activation=\"elu\"))\n",
    "  model.add(Dense(50, activation=\"elu\"))\n",
    "  model.add(Dense(10, activation=\"elu\"))\n",
    "  model.add(Dense(1))\n",
    "  model.compile(Adam(lr=0.001), loss=\"mse\")\n",
    "  return model"
   ]
  },
  {
   "cell_type": "code",
   "execution_count": 231,
   "metadata": {},
   "outputs": [
    {
     "name": "stdout",
     "output_type": "stream",
     "text": [
      "Model: \"sequential_16\"\n",
      "_________________________________________________________________\n",
      "Layer (type)                 Output Shape              Param #   \n",
      "=================================================================\n",
      "conv2d_55 (Conv2D)           (None, 31, 98, 24)        1824      \n",
      "_________________________________________________________________\n",
      "conv2d_56 (Conv2D)           (None, 14, 47, 36)        21636     \n",
      "_________________________________________________________________\n",
      "conv2d_57 (Conv2D)           (None, 5, 22, 48)         43248     \n",
      "_________________________________________________________________\n",
      "conv2d_58 (Conv2D)           (None, 3, 20, 64)         27712     \n",
      "_________________________________________________________________\n",
      "conv2d_59 (Conv2D)           (None, 1, 18, 64)         36928     \n",
      "_________________________________________________________________\n",
      "flatten_11 (Flatten)         (None, 1152)              0         \n",
      "_________________________________________________________________\n",
      "dense_41 (Dense)             (None, 100)               115300    \n",
      "_________________________________________________________________\n",
      "dense_42 (Dense)             (None, 50)                5050      \n",
      "_________________________________________________________________\n",
      "dense_43 (Dense)             (None, 10)                510       \n",
      "_________________________________________________________________\n",
      "dense_44 (Dense)             (None, 1)                 11        \n",
      "=================================================================\n",
      "Total params: 252,219\n",
      "Trainable params: 252,219\n",
      "Non-trainable params: 0\n",
      "_________________________________________________________________\n",
      "None\n",
      "(1484, 66, 200, 3)\n"
     ]
    }
   ],
   "source": [
    "model = nvidia_model()\n",
    "print(model.summary())\n",
    "print(X_train.shape)"
   ]
  },
  {
   "cell_type": "code",
   "execution_count": 232,
   "metadata": {},
   "outputs": [
    {
     "name": "stdout",
     "output_type": "stream",
     "text": [
      "Epoch 1/30\n",
      "15/15 - 9s - loss: 0.4319 - val_loss: 0.0527\n",
      "Epoch 2/30\n",
      "15/15 - 8s - loss: 0.0507 - val_loss: 0.0477\n",
      "Epoch 3/30\n",
      "15/15 - 8s - loss: 0.0427 - val_loss: 0.0436\n",
      "Epoch 4/30\n",
      "15/15 - 8s - loss: 0.0389 - val_loss: 0.0393\n",
      "Epoch 5/30\n",
      "15/15 - 8s - loss: 0.0344 - val_loss: 0.0340\n",
      "Epoch 6/30\n",
      "15/15 - 8s - loss: 0.0300 - val_loss: 0.0294\n",
      "Epoch 7/30\n",
      "15/15 - 8s - loss: 0.0256 - val_loss: 0.0273\n",
      "Epoch 8/30\n",
      "15/15 - 8s - loss: 0.0245 - val_loss: 0.0259\n",
      "Epoch 9/30\n",
      "15/15 - 8s - loss: 0.0237 - val_loss: 0.0251\n",
      "Epoch 10/30\n",
      "15/15 - 8s - loss: 0.0231 - val_loss: 0.0257\n",
      "Epoch 11/30\n",
      "15/15 - 8s - loss: 0.0219 - val_loss: 0.0241\n",
      "Epoch 12/30\n",
      "15/15 - 8s - loss: 0.0212 - val_loss: 0.0236\n",
      "Epoch 13/30\n",
      "15/15 - 8s - loss: 0.0203 - val_loss: 0.0244\n",
      "Epoch 14/30\n",
      "15/15 - 8s - loss: 0.0202 - val_loss: 0.0240\n",
      "Epoch 15/30\n",
      "15/15 - 8s - loss: 0.0196 - val_loss: 0.0231\n",
      "Epoch 16/30\n",
      "15/15 - 7s - loss: 0.0188 - val_loss: 0.0231\n",
      "Epoch 17/30\n",
      "15/15 - 8s - loss: 0.0184 - val_loss: 0.0224\n",
      "Epoch 18/30\n",
      "15/15 - 8s - loss: 0.0189 - val_loss: 0.0230\n",
      "Epoch 19/30\n",
      "15/15 - 8s - loss: 0.0176 - val_loss: 0.0219\n",
      "Epoch 20/30\n",
      "15/15 - 8s - loss: 0.0168 - val_loss: 0.0217\n",
      "Epoch 21/30\n",
      "15/15 - 7s - loss: 0.0165 - val_loss: 0.0214\n",
      "Epoch 22/30\n",
      "15/15 - 8s - loss: 0.0169 - val_loss: 0.0238\n",
      "Epoch 23/30\n",
      "15/15 - 8s - loss: 0.0167 - val_loss: 0.0212\n",
      "Epoch 24/30\n",
      "15/15 - 8s - loss: 0.0160 - val_loss: 0.0208\n",
      "Epoch 25/30\n",
      "15/15 - 8s - loss: 0.0160 - val_loss: 0.0222\n",
      "Epoch 26/30\n",
      "15/15 - 7s - loss: 0.0158 - val_loss: 0.0219\n",
      "Epoch 27/30\n",
      "15/15 - 8s - loss: 0.0159 - val_loss: 0.0236\n",
      "Epoch 28/30\n",
      "15/15 - 7s - loss: 0.0161 - val_loss: 0.0233\n",
      "Epoch 29/30\n",
      "15/15 - 7s - loss: 0.0152 - val_loss: 0.0223\n",
      "Epoch 30/30\n",
      "15/15 - 8s - loss: 0.0150 - val_loss: 0.0222\n"
     ]
    }
   ],
   "source": [
    "h = model.fit(X_train, y_train, epochs=30, validation_data=(X_valid, y_valid), batch_size=100, verbose=2, shuffle='true')"
   ]
  },
  {
   "cell_type": "code",
   "execution_count": 235,
   "metadata": {},
   "outputs": [],
   "source": [
    "model.save('driveModel.h5')\n",
    "\n"
   ]
  },
  {
   "cell_type": "code",
   "execution_count": 236,
   "metadata": {},
   "outputs": [
    {
     "data": {
      "text/plain": [
       "[<matplotlib.lines.Line2D at 0x7f95f158a910>]"
      ]
     },
     "execution_count": 236,
     "metadata": {},
     "output_type": "execute_result"
    },
    {
     "data": {
      "image/png": "[encoded data removed]",
      "text/plain": [
       "<Figure size 432x288 with 1 Axes>"
      ]
     },
     "metadata": {
      "needs_background": "light"
     },
     "output_type": "display_data"
    }
   ],
   "source": [
    "plt.plot(h.history['loss'])\n",
    "plt.plot(h.history['val_loss'])"
   ]
  },
  {
   "cell_type": "code",
   "execution_count": null,
   "metadata": {},
   "outputs": [],
   "source": []
  }
 ],
 "metadata": {
  "accelerator": "GPU",
  "colab": {
   "name": "Behavorial Cloning.ipynb",
   "provenance": []
  },
  "kernelspec": {
   "display_name": "Python 3",
   "language": "python",
   "name": "python3"
  },
  "language_info": {
   "codemirror_mode": {
    "name": "ipython",
    "version": 3
   },
   "file_extension": ".py",
   "mimetype": "text/x-python",
   "name": "python",
   "nbconvert_exporter": "python",
   "pygments_lexer": "ipython3",
   "version": "3.8.3"
  }
 },
 "nbformat": 4,
 "nbformat_minor": 4
}
